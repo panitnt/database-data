{
    "metadata": {
        "kernelspec": {
            "name": "SQL",
            "display_name": "SQL",
            "language": "sql"
        },
        "language_info": {
            "name": "sql",
            "version": ""
        }
    },
    "nbformat_minor": 2,
    "nbformat": 4,
    "cells": [
        {
            "cell_type": "code",
            "source": [
                "USE Flight;"
            ],
            "metadata": {
                "azdata_cell_guid": "068ab703-a724-4776-9be7-7c5ad895e41e",
                "language": "sql"
            },
            "outputs": [
                {
                    "output_type": "display_data",
                    "data": {
                        "text/html": "Commands completed successfully."
                    },
                    "metadata": {}
                },
                {
                    "output_type": "display_data",
                    "data": {
                        "text/html": "Total execution time: 00:00:00.001"
                    },
                    "metadata": {}
                }
            ],
            "execution_count": 1
        },
        {
            "cell_type": "code",
            "source": [
                "CREATE VIEW depAirportName AS\n",
                "SELECT f.flight_number,f.airlineID,a.airportName as 'departure_airport',destination_airport,departure_time,arrive_time,duration\n",
                "FROM Flight f, Airport a\n",
                "WHERE (f.departure_airport = a.airportID)"
            ],
            "metadata": {
                "language": "sql",
                "azdata_cell_guid": "4f7e650c-4cd0-4c04-b239-d5310fad9b48"
            },
            "outputs": [
                {
                    "output_type": "display_data",
                    "data": {
                        "text/html": "Commands completed successfully."
                    },
                    "metadata": {}
                },
                {
                    "output_type": "display_data",
                    "data": {
                        "text/html": "Total execution time: 00:00:00.010"
                    },
                    "metadata": {}
                }
            ],
            "execution_count": 2
        },
        {
            "cell_type": "code",
            "source": [
                "CREATE VIEW desAirportName AS\n",
                "SELECT f.flight_number,f.airlineID,f.departure_airport,a.airportName as 'destination_airport',departure_time,arrive_time,duration\n",
                "FROM depAirportName f, Airport a\n",
                "WHERE (f.destination_airport = a.airportID)"
            ],
            "metadata": {
                "language": "sql",
                "azdata_cell_guid": "406eee5f-7875-401f-8a4c-518b85295165"
            },
            "outputs": [
                {
                    "output_type": "display_data",
                    "data": {
                        "text/html": "Commands completed successfully."
                    },
                    "metadata": {}
                },
                {
                    "output_type": "display_data",
                    "data": {
                        "text/html": "Total execution time: 00:00:00.025"
                    },
                    "metadata": {}
                }
            ],
            "execution_count": 3
        },
        {
            "cell_type": "code",
            "source": [
                "CREATE VIEW AllFlightShow AS\n",
                "SELECT fp.PlanID, a.airlineName, fp.flightNumber,fp.planeID, apd.departure_airport, apd.destination_airport, CONVERT(VARCHAR(5),apd.departure_time, 108) as 'departure_time', CONVERT(VARCHAR(5),apd.arrive_time, 108) as 'arrival_time' ,fp.flight_date\n",
                "FROM desAirportName apd, FlightPlan fp, Airline a\n",
                "WHERE (apd.flight_number = fp.FlightNumber) and (a.airlineID = apd.airlineID)"
            ],
            "metadata": {
                "language": "sql",
                "azdata_cell_guid": "cc7178a0-65f9-4070-bf84-c8ab6415f88a"
            },
            "outputs": [
                {
                    "output_type": "display_data",
                    "data": {
                        "text/html": "Commands completed successfully."
                    },
                    "metadata": {}
                },
                {
                    "output_type": "display_data",
                    "data": {
                        "text/html": "Total execution time: 00:00:00.004"
                    },
                    "metadata": {}
                }
            ],
            "execution_count": 4
        },
        {
            "cell_type": "code",
            "source": [
                "CREATE VIEW PassengerReserveDetail AS\n",
                "SELECT r.reserveID, r.passengerID, r.seat, al.flightNumber, al.flight_date, p.type, p.seat_capacity, pass.firstName, pass.middleName, pass.lastName, pass.gender, pass.nationality, pass.birthday, al.airlineName, al.departure_airport, al.destination_airport, al.departure_time, al.arrival_time, f.PlanID\n",
                "FROM Reserve r, FlightPlan f, Airplane p, Passenger pass, AllFlightShow al\n",
                "WHERE f.flight_date = al.flight_date and r.flightPlanID = f.PlanID and f.planeID = p.planeID and pass.passportNum = r.passengerID and al.flightNumber = f.FlightNumber"
            ],
            "metadata": {
                "azdata_cell_guid": "83aa9ba3-efc6-410b-a517-63ef0012bfbb",
                "language": "sql"
            },
            "outputs": [
                {
                    "output_type": "display_data",
                    "data": {
                        "text/html": "Commands completed successfully."
                    },
                    "metadata": {}
                },
                {
                    "output_type": "display_data",
                    "data": {
                        "text/html": "Total execution time: 00:00:00.011"
                    },
                    "metadata": {}
                }
            ],
            "execution_count": 6
        },
        {
            "cell_type": "code",
            "source": [
                "SELECT *\n",
                "FROM Reserve r, PassengerReserveDetail pd\n",
                "WHERE (r.reserveID = pd.reserveID) and (r.reserveID = '1') and (pd.PlanID = '3')\n",
                ""
            ],
            "metadata": {
                "language": "sql",
                "azdata_cell_guid": "6d44ff23-2bd1-42ae-9c7b-145bb1f78bdf"
            },
            "outputs": [
                {
                    "output_type": "display_data",
                    "data": {
                        "text/html": "(0 rows affected)"
                    },
                    "metadata": {}
                },
                {
                    "output_type": "display_data",
                    "data": {
                        "text/html": "Total execution time: 00:00:00.006"
                    },
                    "metadata": {}
                },
                {
                    "output_type": "execute_result",
                    "execution_count": 6,
                    "data": {
                        "application/vnd.dataresource+json": {
                            "schema": {
                                "fields": [
                                    {
                                        "name": "reserveID"
                                    },
                                    {
                                        "name": "passengerID"
                                    },
                                    {
                                        "name": "flightPlanID"
                                    },
                                    {
                                        "name": "seat"
                                    },
                                    {
                                        "name": "reserveID"
                                    },
                                    {
                                        "name": "passengerID"
                                    },
                                    {
                                        "name": "seat"
                                    },
                                    {
                                        "name": "flightNumber"
                                    },
                                    {
                                        "name": "flight_date"
                                    },
                                    {
                                        "name": "type"
                                    },
                                    {
                                        "name": "seat_capacity"
                                    },
                                    {
                                        "name": "firstName"
                                    },
                                    {
                                        "name": "middleName"
                                    },
                                    {
                                        "name": "lastName"
                                    },
                                    {
                                        "name": "gender"
                                    },
                                    {
                                        "name": "nationality"
                                    },
                                    {
                                        "name": "birthday"
                                    },
                                    {
                                        "name": "airlineName"
                                    },
                                    {
                                        "name": "departure_airport"
                                    },
                                    {
                                        "name": "destination_airport"
                                    },
                                    {
                                        "name": "departure_time"
                                    },
                                    {
                                        "name": "arrival_time"
                                    },
                                    {
                                        "name": "PlanID"
                                    }
                                ]
                            },
                            "data": []
                        },
                        "text/html": "<table><tr><th>reserveID</th><th>passengerID</th><th>flightPlanID</th><th>seat</th><th>reserveID</th><th>passengerID</th><th>seat</th><th>flightNumber</th><th>flight_date</th><th>type</th><th>seat_capacity</th><th>firstName</th><th>middleName</th><th>lastName</th><th>gender</th><th>nationality</th><th>birthday</th><th>airlineName</th><th>departure_airport</th><th>destination_airport</th><th>departure_time</th><th>arrival_time</th><th>PlanID</th></tr></table>"
                    },
                    "metadata": {}
                }
            ],
            "execution_count": 6
        },
        {
            "cell_type": "code",
            "source": [
                "SELECT * FROM Reserve r, PassengerReserveDetail pd WHERE (r.reserveID = pd.reserveID) and (r.reserveID = '1')  and (pd.PlanID = '1');\n",
                ""
            ],
            "metadata": {
                "language": "sql",
                "azdata_cell_guid": "a9ef78d3-e88d-46b8-aea5-32752e7716a5"
            },
            "outputs": [
                {
                    "output_type": "display_data",
                    "data": {
                        "text/html": "(1 row affected)"
                    },
                    "metadata": {}
                },
                {
                    "output_type": "display_data",
                    "data": {
                        "text/html": "Total execution time: 00:00:00.039"
                    },
                    "metadata": {}
                },
                {
                    "output_type": "execute_result",
                    "execution_count": 8,
                    "data": {
                        "application/vnd.dataresource+json": {
                            "schema": {
                                "fields": [
                                    {
                                        "name": "reserveID"
                                    },
                                    {
                                        "name": "passengerID"
                                    },
                                    {
                                        "name": "flightPlanID"
                                    },
                                    {
                                        "name": "seat"
                                    },
                                    {
                                        "name": "reserveID"
                                    },
                                    {
                                        "name": "passengerID"
                                    },
                                    {
                                        "name": "seat"
                                    },
                                    {
                                        "name": "flightNumber"
                                    },
                                    {
                                        "name": "flight_date"
                                    },
                                    {
                                        "name": "type"
                                    },
                                    {
                                        "name": "seat_capacity"
                                    },
                                    {
                                        "name": "firstName"
                                    },
                                    {
                                        "name": "middleName"
                                    },
                                    {
                                        "name": "lastName"
                                    },
                                    {
                                        "name": "gender"
                                    },
                                    {
                                        "name": "nationality"
                                    },
                                    {
                                        "name": "birthday"
                                    },
                                    {
                                        "name": "airlineName"
                                    },
                                    {
                                        "name": "departure_airport"
                                    },
                                    {
                                        "name": "destination_airport"
                                    },
                                    {
                                        "name": "departure_time"
                                    },
                                    {
                                        "name": "arrival_time"
                                    },
                                    {
                                        "name": "PlanID"
                                    }
                                ]
                            },
                            "data": [
                                {
                                    "0": "1",
                                    "1": "AA154078",
                                    "2": "1",
                                    "3": "4B",
                                    "4": "1",
                                    "5": "AA154078",
                                    "6": "4B",
                                    "7": "TG111",
                                    "8": "2566-03-24",
                                    "9": "A380-841",
                                    "10": "520",
                                    "11": "Kenta",
                                    "12": "NULL",
                                    "13": "Yamamoto",
                                    "14": "Male",
                                    "15": "Japanese",
                                    "16": "2505-10-20",
                                    "17": "Thai Airways",
                                    "18": "Suvarnabhumi Airport",
                                    "19": "New Chitose Airport",
                                    "20": "04:00",
                                    "21": "11:00",
                                    "22": "1"
                                }
                            ]
                        },
                        "text/html": "<table><tr><th>reserveID</th><th>passengerID</th><th>flightPlanID</th><th>seat</th><th>reserveID</th><th>passengerID</th><th>seat</th><th>flightNumber</th><th>flight_date</th><th>type</th><th>seat_capacity</th><th>firstName</th><th>middleName</th><th>lastName</th><th>gender</th><th>nationality</th><th>birthday</th><th>airlineName</th><th>departure_airport</th><th>destination_airport</th><th>departure_time</th><th>arrival_time</th><th>PlanID</th></tr><tr><td>1</td><td>AA154078</td><td>1</td><td>4B</td><td>1</td><td>AA154078</td><td>4B</td><td>TG111</td><td>2566-03-24</td><td>A380-841</td><td>520</td><td>Kenta</td><td>NULL</td><td>Yamamoto</td><td>Male</td><td>Japanese</td><td>2505-10-20</td><td>Thai Airways</td><td>Suvarnabhumi Airport</td><td>New Chitose Airport</td><td>04:00</td><td>11:00</td><td>1</td></tr></table>"
                    },
                    "metadata": {}
                }
            ],
            "execution_count": 8
        }
    ]
}