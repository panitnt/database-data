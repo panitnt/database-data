{
    "metadata": {
        "kernelspec": {
            "name": "SQL",
            "display_name": "SQL",
            "language": "sql"
        },
        "language_info": {
            "name": "sql",
            "version": ""
        }
    },
    "nbformat_minor": 2,
    "nbformat": 4,
    "cells": [
        {
            "cell_type": "markdown",
            "source": [
                "Flight"
            ],
            "metadata": {
                "language": "sql",
                "azdata_cell_guid": "9ff9a668-41c6-4c4d-a68f-2235314600ff"
            },
            "attachments": {}
        },
        {
            "cell_type": "code",
            "source": [
                "CREATE database Flight;"
            ],
            "metadata": {
                "language": "sql",
                "azdata_cell_guid": "e5593a96-1ab0-48b8-abd3-d3e5fde4018a"
            },
            "outputs": [
                {
                    "output_type": "error",
                    "ename": "",
                    "evalue": "Msg 1801, Level 16, State 3, Line 1\nDatabase 'Flight' already exists. Choose a different database name.",
                    "traceback": []
                },
                {
                    "output_type": "display_data",
                    "data": {
                        "text/html": "Total execution time: 00:00:00.006"
                    },
                    "metadata": {}
                }
            ],
            "execution_count": 3
        },
        {
            "cell_type": "code",
            "source": [
                "use Flight;"
            ],
            "metadata": {
                "language": "sql",
                "azdata_cell_guid": "ba219dc6-7448-46c1-8a95-af0fa0bf751d"
            },
            "outputs": [
                {
                    "output_type": "display_data",
                    "data": {
                        "text/html": "Commands completed successfully."
                    },
                    "metadata": {}
                },
                {
                    "output_type": "display_data",
                    "data": {
                        "text/html": "Total execution time: 00:00:00.003"
                    },
                    "metadata": {}
                }
            ],
            "execution_count": 5
        },
        {
            "cell_type": "code",
            "source": [
                "CREATE TABLE Airport(\n",
                "    airportID VARCHAR(3),\n",
                "    airportName VARCHAR(255) not null,\n",
                "    city VARCHAR(255) not null,\n",
                "    country VARCHAR(255) not null,\n",
                "    PRIMARY KEY (airportID)\n",
                ")"
            ],
            "metadata": {
                "azdata_cell_guid": "00089ab9-cde6-4ed8-bb0d-6758ca08c34c",
                "language": "sql",
                "tags": []
            },
            "outputs": [
                {
                    "output_type": "display_data",
                    "data": {
                        "text/html": "Commands completed successfully."
                    },
                    "metadata": {}
                },
                {
                    "output_type": "display_data",
                    "data": {
                        "text/html": "Total execution time: 00:00:00.013"
                    },
                    "metadata": {}
                }
            ],
            "execution_count": 6
        },
        {
            "cell_type": "code",
            "source": [
                "CREATE TABLE Passenger(\n",
                "    passportNum VARCHAR(8),\n",
                "    firstName VARCHAR(50) not null,\n",
                "    middleName VARCHAR(50),\n",
                "    lastName VARCHAR(100) not null,\n",
                "    gender VARCHAR(100) not null CHECK (gender in ('Male', 'Female')),\n",
                "    nationality VARCHAR(50) not null,\n",
                "    birthday DATE not null,\n",
                "    PRIMARY KEY(passportNum)\n",
                ")"
            ],
            "metadata": {
                "language": "sql",
                "azdata_cell_guid": "9bfd588e-71f4-4309-86af-e69127c4cf6a"
            },
            "outputs": [
                {
                    "output_type": "display_data",
                    "data": {
                        "text/html": "Commands completed successfully."
                    },
                    "metadata": {}
                },
                {
                    "output_type": "display_data",
                    "data": {
                        "text/html": "Total execution time: 00:00:00.010"
                    },
                    "metadata": {}
                }
            ],
            "execution_count": 7
        },
        {
            "cell_type": "code",
            "source": [
                "CREATE TABLE Airline(\n",
                "    airlineID VARCHAR(8),\n",
                "    airlineName\tVARCHAR(100) not null,\n",
                "    IATA VARCHAR(10) not null,\n",
                "    PRIMARY KEY (airlineID)\n",
                ")"
            ],
            "metadata": {
                "language": "sql",
                "azdata_cell_guid": "95d76952-8e36-44c2-b56c-d0317db89ed7",
                "tags": []
            },
            "outputs": [
                {
                    "output_type": "display_data",
                    "data": {
                        "text/html": "Commands completed successfully."
                    },
                    "metadata": {}
                },
                {
                    "output_type": "display_data",
                    "data": {
                        "text/html": "Total execution time: 00:00:00.008"
                    },
                    "metadata": {}
                }
            ],
            "execution_count": 8
        },
        {
            "cell_type": "code",
            "source": [
                "CREATE TABLE Airplane(\n",
                "    planeID\tVARCHAR(16),\n",
                "    registration VARCHAR(10) not null,\n",
                "    type VARCHAR(20) not null,\n",
                "    airlineID VARCHAR(8) not null, \n",
                "    seat_capacity INT not null check (seat_capacity>0),\n",
                "    PRIMARY KEY (planeID),\n",
                "    FOREIGN KEY (airlineID) REFERENCES Airline\n",
                ")"
            ],
            "metadata": {
                "language": "sql",
                "azdata_cell_guid": "f27fe8e2-d749-472d-8852-b06700ed7daf"
            },
            "outputs": [
                {
                    "output_type": "display_data",
                    "data": {
                        "text/html": "Commands completed successfully."
                    },
                    "metadata": {}
                },
                {
                    "output_type": "display_data",
                    "data": {
                        "text/html": "Total execution time: 00:00:00.011"
                    },
                    "metadata": {}
                }
            ],
            "execution_count": 9
        },
        {
            "cell_type": "code",
            "source": [
                "CREATE TABLE Flight (\n",
                "    flight_number VARCHAR(10),\n",
                "    airlineID VARCHAR(8) not null,\n",
                "    departure_airport VARCHAR(3) not null,\n",
                "    destination_airport VARCHAR(3) not null,\n",
                "    departure_time Time(0) not null,\n",
                "    arrive_time Time(0) not null,\n",
                "    duration FLOAT not null,\n",
                "    PRIMARY KEY (flight_number),\n",
                "    FOREIGN KEY (airlineID) REFERENCES Airline,\n",
                "    FOREIGN KEY (departure_airport) REFERENCES Airport,\n",
                "    FOREIGN KEY (destination_airport) REFERENCES Airport,\n",
                ")"
            ],
            "metadata": {
                "language": "sql",
                "azdata_cell_guid": "e39fd521-2df2-4a33-b882-f86389ded981"
            },
            "outputs": [
                {
                    "output_type": "display_data",
                    "data": {
                        "text/html": "Commands completed successfully."
                    },
                    "metadata": {}
                },
                {
                    "output_type": "display_data",
                    "data": {
                        "text/html": "Total execution time: 00:00:00.012"
                    },
                    "metadata": {}
                }
            ],
            "execution_count": 10
        },
        {
            "cell_type": "code",
            "source": [
                "CREATE TABLE FlightPlan(\n",
                "    PlanID VARCHAR(16),\n",
                "    FlightNumber VARCHAR(10) not null,\n",
                "    planeID VARCHAR(16) not null,\n",
                "    flight_date DATE not null,\n",
                "    PRIMARY KEY (PlanID),\n",
                "    FOREIGN KEY (planeID) REFERENCES Airplane,\n",
                "    FOREIGN KEY (FlightNumber) REFERENCES Flight\n",
                ")"
            ],
            "metadata": {
                "language": "sql",
                "azdata_cell_guid": "61b1298c-00c1-4008-8818-66e0b4c95bba"
            },
            "outputs": [
                {
                    "output_type": "display_data",
                    "data": {
                        "text/html": "Commands completed successfully."
                    },
                    "metadata": {}
                },
                {
                    "output_type": "display_data",
                    "data": {
                        "text/html": "Total execution time: 00:00:00.012"
                    },
                    "metadata": {}
                }
            ],
            "execution_count": 11
        },
        {
            "cell_type": "code",
            "source": [
                "CREATE TABLE Reserve(\n",
                "    reserveID VARCHAR(16),\n",
                "    passengerID VARCHAR(8) not null,\n",
                "    flightPlanID VARCHAR(16) not null,\n",
                "    seat VARCHAR(3) not null,\n",
                "    PRIMARY KEY(reserveID),\n",
                "    FOREIGN KEY (passengerID) REFERENCES Passenger,\n",
                "    FOREIGN KEY (flightPlanID) REFERENCES FlightPlan\n",
                ")"
            ],
            "metadata": {
                "language": "sql",
                "azdata_cell_guid": "a48d47d7-6ca8-4749-996c-23d1416fe375"
            },
            "outputs": [
                {
                    "output_type": "display_data",
                    "data": {
                        "text/html": "Commands completed successfully."
                    },
                    "metadata": {}
                },
                {
                    "output_type": "display_data",
                    "data": {
                        "text/html": "Total execution time: 00:00:00.012"
                    },
                    "metadata": {}
                }
            ],
            "execution_count": 12
        },
        {
            "cell_type": "code",
            "source": [
                "CREATE TABLE Employee(\n",
                "    emp_ID VARCHAR(10),\n",
                "    AirlineID VARCHAR(8) not null,\n",
                "    Passport_number VARCHAR(8) not null,\n",
                "    FirstName VARCHAR(50) not null,\n",
                "    MiddleName VARCHAR(50),\n",
                "    LastName VARCHAR(50) not null,\n",
                "    nationality VARCHAR(50) not null,\n",
                "    gender VARCHAR(30) not null CHECK (gender in ('Male', 'Female')),\n",
                "    birthday DATE not null,\n",
                "    role VARCHAR(30) not null,\n",
                "    PRIMARY KEY (emp_ID),\n",
                "    FOREIGN KEY (AirlineID) REFERENCES Airline\n",
                ")"
            ],
            "metadata": {
                "language": "sql",
                "azdata_cell_guid": "c160522d-8b23-4466-bbd0-5f00b96e97f0",
                "tags": []
            },
            "outputs": [
                {
                    "output_type": "display_data",
                    "data": {
                        "text/html": "Commands completed successfully."
                    },
                    "metadata": {}
                },
                {
                    "output_type": "display_data",
                    "data": {
                        "text/html": "Total execution time: 00:00:00.012"
                    },
                    "metadata": {}
                }
            ],
            "execution_count": 13
        },
        {
            "cell_type": "code",
            "source": [
                "CREATE TABLE Salary (\n",
                "    role VARCHAR(20),\n",
                "    salary int not null CHECK (salary > 0),\n",
                "    PRIMARY KEY (role)\n",
                ")"
            ],
            "metadata": {
                "language": "sql",
                "azdata_cell_guid": "281a2690-5e8c-455b-8682-e68b2cc5a821"
            },
            "outputs": [
                {
                    "output_type": "display_data",
                    "data": {
                        "text/html": "Commands completed successfully."
                    },
                    "metadata": {}
                },
                {
                    "output_type": "display_data",
                    "data": {
                        "text/html": "Total execution time: 00:00:00.013"
                    },
                    "metadata": {}
                }
            ],
            "execution_count": 14
        },
        {
            "cell_type": "code",
            "source": [
                "CREATE TABLE FlightEmployee (\n",
                "    flightCrewID VARCHAR(16),\n",
                "    flightPlanID VARCHAR(16) not null,\n",
                "    emp_ID VARCHAR(10) not null,\n",
                "    PRIMARY KEY (flightCrewID),\n",
                "    FOREIGN KEY (flightPlanID) REFERENCES FlightPlan,\n",
                "    FOREIGN Key (emp_ID) REFERENCES Employee\n",
                ")"
            ],
            "metadata": {
                "language": "sql",
                "azdata_cell_guid": "def53356-f2ee-4e2e-942d-f92795f34592"
            },
            "outputs": [
                {
                    "output_type": "display_data",
                    "data": {
                        "text/html": "Commands completed successfully."
                    },
                    "metadata": {}
                },
                {
                    "output_type": "display_data",
                    "data": {
                        "text/html": "Total execution time: 00:00:00.011"
                    },
                    "metadata": {}
                }
            ],
            "execution_count": 15
        },
        {
            "cell_type": "markdown",
            "source": [
                "Insert Data"
            ],
            "metadata": {
                "language": "sql",
                "azdata_cell_guid": "04e995cd-31be-4ed8-95a1-9264d3281879"
            },
            "attachments": {}
        },
        {
            "cell_type": "code",
            "source": [
                "-- Airline\n",
                "INSERT dbo.Airline(airlineID,airlineName,IATA)\n",
                "VALUES ('1', 'Thai Airways', 'THA'),\n",
                "('2', 'Thai Smile', 'WE'),\n",
                "('3', 'Bangkok Airways', 'PG'),\n",
                "('4', 'AirAsia', 'AK'),\n",
                "('5', 'British Airways', 'BA'),\n",
                "('6', 'Mandarin Airlines', 'AE'),\n",
                "('7', 'Japan Airline', 'JL'),\n",
                "('8', 'Air India', 'AI'),\n",
                "('9', 'All Nippon Airways', 'ANA'),\n",
                "('10', 'Alliance Airlines', 'QQ')"
            ],
            "metadata": {
                "language": "sql",
                "azdata_cell_guid": "c7cd58e9-96eb-4902-856b-d3ba2c692b60"
            },
            "outputs": [
                {
                    "output_type": "display_data",
                    "data": {
                        "text/html": "(10 rows affected)"
                    },
                    "metadata": {}
                },
                {
                    "output_type": "display_data",
                    "data": {
                        "text/html": "Total execution time: 00:00:00.007"
                    },
                    "metadata": {}
                }
            ],
            "execution_count": 17
        },
        {
            "cell_type": "code",
            "source": [
                "-- Airplane\n",
                "INSERT dbo.Airplane(planeID,registration,type,airlineID,seat_capacity)\n",
                "VALUES ('1', 'HS-TAA', 'A300-600', '1', '240'),\n",
                "('2', 'HS-TXU', 'A320-232', '2', '120'),\n",
                "('3', 'HS-TAB', 'A300-600', '1', '230'),\n",
                "('4', 'HS-TEJ', 'A330-343', '1', '280'),\n",
                "('5', 'HS-TDK', 'B-737-4D7', '2', '150'),\n",
                "('6', 'HS-TUS', 'A380-841', '1', '520'),\n",
                "('7', 'HS-TIG', 'A321-231', '2', '170'),\n",
                "('8', 'HS-TEZ', 'A330-343', '1', '280'),\n",
                "('9', 'HS-TJD', 'B777-236(ER)', '1', '350'),\n",
                "('10', 'HS-TJM', 'B777-328(ER)', '1', '360'),\n",
                "('11', 'HS-TAX', 'A300-600', '1', '240'),\n",
                "('12', 'HS-TXB', 'A320-232', '2', '120'),\n",
                "('13', 'HS-TER', 'A330-343', '1', '280'),\n",
                "('14', 'HS-TXM', 'A320-232', '2', '120'),\n",
                "('15', 'HS-TJF', 'B777-328(ER)', '1', '360'),\n",
                "('16', 'HS-TEO', 'A330-343', '1', '280'),\n",
                "('17', 'HS-TXY', 'A320-232', '2', '120'),\n",
                "('18', 'HS-TXN', 'A320-232', '2', '120'),\n",
                "('19', 'HS-TDC', 'B-737-4D7', '2', '150'),\n",
                "('20', 'HS-TDK', 'B-737-4D7', '2', '150')"
            ],
            "metadata": {
                "language": "sql",
                "azdata_cell_guid": "69c7db37-70c7-4680-bf3f-26db5fa70551",
                "tags": []
            },
            "outputs": [
                {
                    "output_type": "display_data",
                    "data": {
                        "text/html": "(20 rows affected)"
                    },
                    "metadata": {}
                },
                {
                    "output_type": "display_data",
                    "data": {
                        "text/html": "Total execution time: 00:00:00.031"
                    },
                    "metadata": {}
                }
            ],
            "execution_count": 18
        },
        {
            "cell_type": "code",
            "source": [
                "-- Airport\n",
                "INSERT dbo.Airport(airportID,airportName,city,country)\n",
                "VALUES ('BKK', 'Suvarnabhumi Airport', 'Samut Prakan', 'Thailand'),\n",
                "('NRT', 'Narita Airport', 'Chiba', 'Japan'),\n",
                "('LHR', 'Heathrow Airport', 'London', 'United Kingdom'),\n",
                "('CTS', 'New Chitose Airport', 'Chitose', 'Japan'),\n",
                "('FUK', 'Fukuoka Airport', 'Fukuoka ', 'Japan'),\n",
                "('DEL', 'Indira Gandhi Airport', 'Delhi', 'India'),\n",
                "('SYD', 'Sydney Airport', 'Sydney', 'Australia'),\n",
                "('CNX', 'Chiang Mai Airport', 'Chiang Mai', 'Thailand'),\n",
                "('KBV', 'Krabi Airport', 'Krabi', 'Thailand'),\n",
                "('HKT', 'Phuket Airport', 'Phuket ', 'Thailand'),\n",
                "('NAW', 'Narathiwat Aiport', 'Narathiwat', 'Thailand'),\n",
                "('USM', 'Samui Airport', 'Samui', 'Thailand'),\n",
                "('HDY', 'Hat Yai Airport', 'Songkhla', 'Thailand'),\n",
                "('CEI', 'Chiang Rai Airport', 'Chiang Rai', 'Thailand'),\n",
                "('KHH', 'Kaohsiung Airport', 'Kaohsiung', 'Taiwan')"
            ],
            "metadata": {
                "language": "sql",
                "azdata_cell_guid": "29f6985d-fbb7-4e96-8ac9-7276d1f34ddf"
            },
            "outputs": [
                {
                    "output_type": "display_data",
                    "data": {
                        "text/html": "(15 rows affected)"
                    },
                    "metadata": {}
                },
                {
                    "output_type": "display_data",
                    "data": {
                        "text/html": "Total execution time: 00:00:00.012"
                    },
                    "metadata": {}
                }
            ],
            "execution_count": 19
        },
        {
            "cell_type": "code",
            "source": [
                "-- Passenger\n",
                "INSERT dbo.Passenger(passportNum,firstName,middleName,lastName,gender,nationality,birthday)\n",
                "VALUES ('AB637764', 'Matsuda', '', 'Kohaku', 'Female', 'Japanese', '1958-05-30')\n",
                "('AA154078', 'Kenta', '', 'Yamamoto', 'Male', 'Japanese', '1962-10-20'),\n",
                "('AE788418', 'Theepob ', '', 'Intarama', 'Male', 'Thai', '1963-01-26'),\n",
                "('AB296654', 'Nattapong', '', 'Ratchasima', 'Male', 'Thai', '1963-05-29'),\n",
                "('AC741785', 'Fu', '', 'Enlai', 'Female', 'Chinese', '1964-04-29'),\n",
                "('AC435399', 'Nareerat', '', 'Intarama', 'Female', 'Thai', '1965-03-30'),\n",
                "('AB956895', 'Malika', '', 'Kwankaew', 'Female', 'Thai', '1965-07-15'),\n",
                "('AE257729', 'Wanvisa', '', 'Sae-Jiw', 'Female', 'Thai', '1965-11-04'),\n",
                "('AC751158', 'Nathawan', '', 'Saengsawang', 'Female', 'Thai', '1965-12-13'),\n",
                "('AE874574', 'Arthit', '', 'Saengsawang', 'Male', 'Thai', '1965-12-16'),\n",
                "('AC925282', 'Charnchai', '', 'Praphasorn', 'Male', 'Thai', '1966-04-27'),\n",
                "('AC424828', 'Panita', '', 'Sricharoen', 'Female', 'Thai', '1966-05-29'),\n",
                "('AB720436', 'Darunee', '', 'Laophairoj', 'Female', 'Thai', '1966-05-30'),\n",
                "('AA195657', 'Patcharee', '', 'Kaewmanee', 'Female', 'Thai', '1966-06-13'),\n",
                "('AE330377', 'Siriporn', '', 'Phetkaew', 'Female', 'Thai', '1967-03-24'),\n",
                "('AC546170', 'Supawadee', '', 'Phetkaew', 'Male', 'Thai', '1967-11-21'),\n",
                "('AA080731', 'Nicolette', '', 'Gagneux', 'Male', 'French', '1968-02-27'),\n",
                "('AB127018', 'Sutida', '', 'Sittichai', 'Female', 'Thai', '1968-05-27'),\n",
                "('AC406018', 'Noppadol', '', 'Kaewkam', 'Male', 'Thai', '1969-06-29'),\n",
                "('AB787077', 'Janwipa', '', 'Sukseree', 'Female', 'Thai', '1969-11-27'),\n",
                "('AE261260', 'Thawatchai', '', 'Saithong', 'Male', 'Thai', '1970-02-03'),\n",
                "('AC556926', 'Wichai', '', 'Saengsawang', 'Male', 'Thai', '1970-03-02'),\n",
                "('AB572698', 'Thanyarat', '', 'Jiraprapakul', 'Male', 'Thai', '1970-04-02'),\n",
                "('AA718487', 'Charan', '', 'Sookngam', 'Male', 'Thai', '1971-06-12'),\n",
                "('AA021167', 'Kang ', 'Ming', 'Ting', 'Female', 'Chinese', '1973-01-03'),\n",
                "('AB865570', 'Suwitcha', '', 'Sripetch', 'Female', 'Thai', '1973-08-08'),\n",
                "('AE920956', 'Nattawut', '', 'Sukkasem', 'Male', 'Thai', '1974-03-25'),\n",
                "('AB877664', 'Jenjira', '', 'Laoarun', 'Female', 'Thai', '1974-04-02'),\n",
                "('AC602002', 'Sirisak', '', 'Nantapoj', 'Male', 'Thai', '1975-02-14'),\n",
                "('AB535356', 'Taweesak', '', 'Yamsiri', 'Male', 'Thai', '1975-10-03'),\n",
                "('AA578307', 'Peerada', '', 'Sawadiwong', 'Female', 'Thai', '1975-10-11'),\n",
                "('AA542087', 'Pimchan', '', 'Vitaya', 'Female', 'Thai', '1976-01-17'),\n",
                "('AB953506', 'Yosapon', '', 'Sribuarod', 'Male', 'Thai', '1976-10-07'),\n",
                "('AA215441', 'Namfon', '', 'Srimalai', 'Female', 'Thai', '1977-11-13'),\n",
                "('AC864891', 'Jutaporn', '', 'Phuangphet', 'Female', 'Thai', '1978-07-18'),\n",
                "('AE249876', 'Prasong', '', 'Srikam', 'Male', 'Thai', '1978-12-13'),\n",
                "('AB617378', 'Kamonwan', '', 'Wattanapongsiri', 'Female', 'Thai', '1979-09-06'),\n",
                "('AC382369 ', 'Masato', '', 'Tatsuya', 'Male', 'Japanese', '1980-02-01'),\n",
                "('AA316020 ', 'Panyata', '', 'Posamran', 'Female', 'Thai', '1981-04-03'),\n",
                "('AE449679', 'Kritsada', '', 'Sawangjaeung', 'Female', 'Thai', '1983-01-10'),\n",
                "('AA876070', 'Waraporn', '', 'Pratumwan', 'Female', 'Thai', '1984-02-16'),\n",
                "('AE974392', 'Mizuki', '', 'Suzuki', 'Female', 'Japanese', '1984-08-08'),\n",
                "('AC391570', 'Tao', '', 'Cherling', 'Male', 'Chinese', '1984-10-01'),\n",
                "('AC716434', 'Sathit', '', 'Boonserm', 'Male', 'Thai', '1984-10-11'),\n",
                "('AE718522', 'Boonsong', '', 'Sawangjaeung', 'Male', 'Thai', '1985-01-13'),\n",
                "('AC491080', 'Nirana', '', 'Kittipattra', 'Female', 'Thai', '1985-02-17'),\n",
                "('AA158611', 'Jedpat', '', 'Kittitechakun', 'Male', 'Thai', '1985-03-18'),\n",
                "('AB377347', 'Napat', '', 'Chamnarn', 'Male', 'Thai', '1985-11-11'),\n",
                "('AB165843', 'Nopparat', '', 'Chuangchot', 'Female', 'Thai', '1985-11-11'),\n",
                "('AA660458', 'Pitchayapa', '', 'Sricharoen', 'Female', 'Thai', '1985-11-16'),\n",
                "('AC523040', 'Kanokporn', '', 'Sinthawanit', 'Female', 'Thai', '1985-11-29'),\n",
                "('AE620401', 'Li', '', 'Guao', 'Male', 'Chinese', '1986-01-07'),\n",
                "('AC676910', 'Fang', '', 'Wang', 'Male', 'Chinese', '1986-04-03'),\n",
                "('AC798473', 'Pongsathorn', '', 'Siriwanich', 'Male', 'Thai', '1986-05-28'),\n",
                "('AC437817', 'Narongchai', '', 'Boonserm', 'Male', 'Thai', '1986-07-07'),\n",
                "('AA897983', 'Pat', '', 'Weerapakmethee', 'Female', 'Thai', '1986-12-14'),\n",
                "('AE409178', 'Chutikarn', '', 'Kittitechakun', 'Female', 'Thai', '1987-05-04'),\n",
                "('AC835617', 'Atchara', '', 'Somporn', 'Female', 'Thai', '1987-07-02'),\n",
                "('AC636621', 'Thanawat', '', 'Sirisorn', 'Male', 'Thai', '1987-11-06'),\n",
                "('AB146105', 'Weerapol', '', 'Weerapol', 'Male', 'Thai', '1988-01-24'),\n",
                "('AE994756', 'Siriluk', '', 'Phumisat', 'Female', 'Thai', '1988-03-13'),\n",
                "('AB406155', 'Thomas', 'Jackson', 'Edy', 'Male', 'British', '1988-06-19'),\n",
                "('AA394721', 'Grace', '', 'Carter', 'Female', 'British', '1988-07-29'),\n",
                "('AB938345', 'Pathompong', '', 'Pongprayoon', 'Male', 'Thai', '1989-02-08'),\n",
                "('AE722018', 'Emi', '', 'Inoue', 'Female', 'Japanese', '1989-06-14'),\n",
                "('AB308846', 'Chutima', '', 'Phetpradap', 'Female', 'Thai', '1989-08-01'),\n",
                "('AE781451', 'Banyong', '', 'Nualjan', 'Male', 'Thai', '1989-09-16'),\n",
                "('AC951873', 'Mika', '', 'Kaito', 'Female', 'Japanese', '1989-11-04'),\n",
                "('AB405563', 'Kanokwan', '', 'Thammasarn', 'Female', 'Thai', '1990-04-11'),\n",
                "('AE797225', 'Ming', '', 'Guao', 'Female', 'Chinese', '1990-09-20'),\n",
                "('AC962702', 'Haruka', '', 'Nakamura', 'Female', 'Japanese', '1991-02-06'),\n",
                "('AC674123', 'Surasak', '', 'Bunyaratavej', 'Male', 'Thai', '1991-08-23'),\n",
                "('AC448474', 'Henry', 'Foster', 'Parkinson', 'Male', 'British', '1991-09-01'),\n",
                "('AA206073', 'Kaito', '', 'Fujimoto', 'Male', 'Japanese', '1992-05-17'),\n",
                "('AB637864', 'Reinald', '', 'Marie', 'Female', 'British', '1992-07-11'),\n",
                "('AA948285', 'Yuto', '', 'Tanaka', 'Female', 'Japanese', '1992-12-12'),\n",
                "('AE465063', 'Wannipa', '', 'Samart', 'Female', 'Thai', '1993-04-16'),\n",
                "('AE422750', 'Mai', '', 'Yoshida', 'Female', 'Japanese', '1993-05-22'),\n",
                "('AB337869', 'Xue', '', 'Hu', 'Female', 'Chinese', '1993-07-18'),\n",
                "('AA921735', 'Nareerat', '', 'Pakdee', 'Female', 'Thai', '1993-09-15'),\n",
                "('AC928365', 'Tawan', '', 'Khunpleum', 'Female', 'Thai', '1993-10-06'),\n",
                "('AC794138', 'Jian', '', 'Yang', 'Male', 'Chinese', '1994-02-22'),\n",
                "('AE280453', 'Nat', '', 'Sukprasert', 'Female', 'Thai', '1994-06-07'),\n",
                "('AE942281', 'Pattama', '', 'Aksornthong', 'Female', 'Thai', '1994-10-23'),\n",
                "('AB346890', 'Akiko', '', 'Yamamoto', 'Female', 'Japanese', '1994-12-18'),\n",
                "('AA600661', 'Olivia', 'Wright', 'Anderson', 'Female', 'British', '1995-04-27'),\n",
                "('AB685371', 'Supaporn', '', 'Thongmak', 'Female', 'Thai', '1995-10-05'),\n",
                "('AA776819', 'Somsak', '', 'Chaiyong', 'Male', 'Thai', '1996-02-13'),\n",
                "('AB621796', 'Sophie', '', 'Balley', 'Female', 'British', '1996-03-16'),\n",
                "('AB194161', 'Nattawadee', '', 'Janwarasakul', 'Female', 'Thai', '1996-06-23'),\n",
                "('AE772366', 'Emily', '', 'Blanchard', 'Female', 'British', '1996-08-25'),\n",
                "('AA647240', 'Jing', '', 'Zhang', 'Male', 'Chinese', '1997-01-31'),\n",
                "('AE547244', 'Edward', 'Wood', 'Bail', 'Male', 'British', '1997-02-12'),\n",
                "('AC541659 ', 'Sethee', '', 'Wongwarittara', 'Male', 'Thai', '1997-07-18'),\n",
                "('AA578737', 'Somnuk', '', 'Khampasen', 'Male', 'Thai', '1997-11-01'),\n",
                "('AB992262', 'Qiu', '', 'Zhou', 'Male', 'Chinese', '1997-11-26'),\n",
                "('AC019323', 'Wei', '', 'Chen', 'Male', 'Chinese', '1998-02-15'),\n",
                "('AC778368', 'Prasert', '', 'Boonserm', 'Male', 'Thai', '1998-03-15'),\n",
                "('AA646453', 'Pongkiat', '', 'Patanakosol', 'Male', 'Thai', '1998-08-10'),\n",
                "('AC576678', 'Worapoj', '', 'Ratanapongsakul', 'Male', 'Thai', '1998-10-17'),\n",
                "('AA964205', 'Thanachai', '', 'Sasomsub', 'Male', 'Thai', '1998-11-03'),\n",
                "('AC623008', 'Jun', '', 'Lui', 'Male', 'Chinese', '1998-12-09'),\n",
                "('AE142503', 'Pairoj', '', 'Aksornthong', 'Male', 'Thai', '1998-12-29'),\n",
                "('AB870546', 'Shenug', '', 'Guao', 'Male', 'Chinese', '1999-04-19'),\n",
                "('AC733780', 'Yuo', '', 'Yamamoto', 'Female', 'Japanese', '1999-06-03'),\n",
                "('AC417698', 'Takumi', '', 'Shimizu', 'Male', 'Japanese', '1999-08-05'),\n",
                "('AC379484', 'Saiki', '', 'Satoshi', 'Male', 'Japanese', '1999-08-24'),\n",
                "('AE942746', 'Sarawut', '', 'Udomsuk', 'Male', 'Thai', '2000-03-28'),\n",
                "('AE676046', 'Sakda', '', 'Saengdee', 'Female', 'Thai', '2000-07-16'),\n",
                "('AE669868', 'Prapaporn', '', 'Suksawat', 'Female', 'Thai', '2000-11-11'),\n",
                "('AA540039', 'Nattapol', '', 'Bunnak', 'Male', 'Thai', '2000-11-18'),\n",
                "('AC750567', 'Anna', 'Jen', 'Blanchard', 'Male', 'British', '2000-12-20'),\n",
                "('AB129765', 'Nattapong', '', 'Siwabut', 'Male', 'Thai', '2001-09-11'),\n",
                "('AC566163', 'Supitcha', '', 'Wongkham', 'Female', 'Thai', '2001-11-27'),\n",
                "('AA066378', 'Zhong', '', 'Xiaoli', 'Male', 'Chinese', '2002-09-21'),\n",
                "('AA415357', 'Sumalee', '', 'Hiranprueck', 'Female', 'Thai', '2002-11-19'),\n",
                "('AE711684', 'Kamonchanok', '', 'Boonserm', 'Female', 'Thai', '2003-11-21'),\n",
                "('AB768454', 'Thongchai', '', 'Sukkho', 'Male', 'Thai', '2004-02-09'),\n",
                "('AB470464', 'Thawan', '', 'Kittitechakun', 'Male', 'Thai', '2010-09-12'),\n",
                "('AC652521', 'Napha', '', 'Kittitechakun', 'Female', 'Thai', '2015-03-15')"
            ],
            "metadata": {
                "language": "sql",
                "azdata_cell_guid": "9aa4b21b-8bdd-41b4-98db-0425500772ef",
                "tags": []
            },
            "outputs": [
                {
                    "output_type": "display_data",
                    "data": {
                        "text/html": "(119 rows affected)"
                    },
                    "metadata": {}
                },
                {
                    "output_type": "display_data",
                    "data": {
                        "text/html": "Total execution time: 00:00:00.023"
                    },
                    "metadata": {}
                }
            ],
            "execution_count": 29
        },
        {
            "cell_type": "code",
            "source": [
                "-- Flight\n",
                "INSERT dbo.Flight(flight_number,airlineID,departure_airport,destination_airport,departure_time,arrive_time,duration)\n",
                "VALUES ('TG111','1','BKK','CTS','4:00', '11:00', 7.0),\n",
                "('TG112','1','CTS','BKK','11:30', '19:00', 7.3),\n",
                "('TG133','1','BKK','USM','13:40', '15:00', 1.2),\n",
                "('TG134','1','USM','BKK','15:30', '17:00', 1.3),\n",
                "('TG276','1','BKK','NRT','3:00', '9:00', 6.0),\n",
                "('TG277','1','NRT','BKK','10:20', '16:15', 5.55),\n",
                "('TG491','1','BKK','FUK','2:00', '8:10', 6.1),\n",
                "('TG492','1','FUK','BKK','9:00', '15:00', 6.0),\n",
                "('TG897','1','BKK','CNX','15:30', '17:05', 1.35),\n",
                "('TG898','1','CNX','BKK','18:00', '19:30', 1.3),\n",
                "('WE555','2','BKK','HDY','12:30', '14:00', 1.3),\n",
                "('WE556','2','HDY','BKK','15:00', '16:10', 1.1),\n",
                "('WE665','2','BKK','HKT','11:00', '12:35', 1.35),\n",
                "('WE666','2','HKT','BKK','13:40', '15:10', 1.3),\n",
                "('WE667','2','BKK','HKT','16:30', '18:00', 1.3),\n",
                "('WE668','2','HKT','BKK','19:00', '20:20', 1.2),\n",
                "('WE987','2','BKK','CNX','10:55', '12:20', 1.25),\n",
                "('WE988','2','CNX','BKK','13:35', '14:55', 1.2)"
            ],
            "metadata": {
                "language": "sql",
                "azdata_cell_guid": "f5f7fe91-4b8a-421c-beee-d52c243020f5"
            },
            "outputs": [
                {
                    "output_type": "display_data",
                    "data": {
                        "text/html": "(18 rows affected)"
                    },
                    "metadata": {}
                },
                {
                    "output_type": "display_data",
                    "data": {
                        "text/html": "Total execution time: 00:00:00.028"
                    },
                    "metadata": {}
                }
            ],
            "execution_count": 33
        },
        {
            "cell_type": "code",
            "source": [
                "-- FlightPlan\n",
                "INSERT dbo.FlightPlan(PlanID,FlightNumber,planeID,flight_date)\n",
                "VALUES ('1','TG111','6','2023-03-24'),\n",
                "('2','TG112','6','2023-03-24'),\n",
                "('3','TG133','9','2023-03-24'),\n",
                "('4','TG134','9','2023-03-24'),\n",
                "('5','TG491','4','2023-03-24'),\n",
                "('6','TG492','4','2023-03-24'),\n",
                "('7','TG897','3','2023-03-24'),\n",
                "('8','TG898','3','2023-03-24'),\n",
                "('9','TG276','11','2023-03-24'),\n",
                "('10','TG277','11','2023-03-24'),\n",
                "('11','WE665','19','2023-03-24'),\n",
                "('12','WE666','19','2023-03-24'),\n",
                "('13','WE987','5','2023-03-24'),\n",
                "('14','WE988','5','2023-03-24'),\n",
                "('15','WE555','12','2023-03-24'),\n",
                "('16','WE556','12','2023-03-24'),\n",
                "('17','TG111','6','2023-03-25'),\n",
                "('18','TG112','6','2023-03-25'),\n",
                "('19','TG133','9','2023-03-25'),\n",
                "('20','TG134','9','2023-03-25'),\n",
                "('21','WE665','19','2023-03-25'),\n",
                "('22','WE666','19','2023-03-25'),\n",
                "('23','WE667','19','2023-03-25'),\n",
                "('24','WE668','19','2023-03-25')"
            ],
            "metadata": {
                "language": "sql",
                "azdata_cell_guid": "93c91f81-413c-4dbb-9cf2-8f679b117ccf"
            },
            "outputs": [
                {
                    "output_type": "display_data",
                    "data": {
                        "text/html": "(24 rows affected)"
                    },
                    "metadata": {}
                },
                {
                    "output_type": "display_data",
                    "data": {
                        "text/html": "Total execution time: 00:00:00.046"
                    },
                    "metadata": {}
                }
            ],
            "execution_count": 35
        },
        {
            "cell_type": "code",
            "source": [
                "-- Reserve\n",
                "INSERT dbo.Reserve(reserveID,passengerID,flightPlanID,seat)\n",
                "VALUES ('1','AA154078','1','4B'),\n",
                "('2','AB346890','1','4C'),\n",
                "('3','AC733780','1','4D'),\n",
                "('4','AC546170','1','3C'),\n",
                "('5','AB406155','3','1D'),\n",
                "('6','AA394721','3','1B'),\n",
                "('7','AC448474','3','1A'),\n",
                "('8','AB637764','3','1C'),\n",
                "('9','AA158611','3','2A'),\n",
                "('10','AE409178','3','2B'),\n",
                "('11','AB470464','3','2C'),\n",
                "('12','AC652521','3','2D'),\n",
                "('13','AC576678','14','1D'),\n",
                "('14','AC962702','1','4A'),\n",
                "('15','AE942746','1','7A'),\n",
                "('16','AE676046','1','7B'),\n",
                "('17','AE669868','1','7C'),\n",
                "('18','AA540039','1','7D'),\n",
                "('19','AE422750','1','3D'),\n",
                "('20','AC636621','14','3C'),\n",
                "('21','AC798473','14','3D'),\n",
                "('22','AB165843','3','8B'),\n",
                "('23','AA897983','3','8C'),\n",
                "('24','AC835617','3','8A'),\n",
                "('25','AC523040','3','8D'),\n",
                "('26','AC951873','1','6A'),\n",
                "('27','AE330377','1','2A'),\n",
                "('28','AE449679','14','4B'),\n",
                "('29','AE718522','14','4A'),\n",
                "('30','AB129765','3','6B'),\n",
                "('31','AC566163','3','6D'),\n",
                "('32','AA415357','3','6C'),\n",
                "('33','AA600661','14','5A'),\n",
                "('34','AB621796','14','5B'),\n",
                "('35','AE772366','14','5C'),\n",
                "('36','AE547244','14','6A'),\n",
                "('37','AC750567','14','6B'),\n",
                "('38','AA206073','1','5A'),\n",
                "('39','AE788418','3','4A'),\n",
                "('40','AC435399','3','4B'),\n",
                "('41','AA080731','3','7C'),\n",
                "('42','AC928365','16','5D'),\n",
                "('43','AE280453','16','5C'),\n",
                "('44','AA921735','16','5B'),\n",
                "('45','AE465063','16','5A'),\n",
                "('46','AA776819','16','1D'),\n",
                "('47','AC437817','1','1A'),\n",
                "('48','AC716434','1','1B'),\n",
                "('49','AC778368','1','1C'),\n",
                "('50','AE711684','1','1D'),\n",
                "('51','AA647240','16','2A'),\n",
                "('52','AB992262','16','2B'),\n",
                "('53','AE722018','1','8D'),\n",
                "('54','AB194161','16','7D'),\n",
                "('55','AC751158','16','7C'),\n",
                "('56','AE874574','16','6A'),\n",
                "('57','AC556926','16','3D'),\n",
                "('58','AB637764','1','3B'),\n",
                "('59','AC379484','16','3C'),\n",
                "('60','AC417698','16','6C'),\n",
                "('61','AB685371','16','4B')"
            ],
            "metadata": {
                "language": "sql",
                "azdata_cell_guid": "a268a319-f971-41d5-b9f2-3bbc67cbde18"
            },
            "outputs": [
                {
                    "output_type": "display_data",
                    "data": {
                        "text/html": "(61 rows affected)"
                    },
                    "metadata": {}
                },
                {
                    "output_type": "display_data",
                    "data": {
                        "text/html": "Total execution time: 00:00:00.052"
                    },
                    "metadata": {}
                }
            ],
            "execution_count": 36
        },
        {
            "cell_type": "code",
            "source": [
                "-- Employee\n",
                "INSERT dbo.Employee(emp_ID,AirlineID,Passport_number,FirstName,MiddleName,LastName,nationality,gender,birthday,role)\n",
                "VALUES ('1', '1', 'AA311528', 'Rawisitira', '', 'Thungthongchai', 'Thai', 'Male', '1982-03-13', 'Captain'),\n",
                "('2', '1', 'AA636903', 'Adithep', '', 'Punwarisaruk', 'Thai', 'Male', '1993-11-03', 'First Officer'),\n",
                "('3', '2', 'AC095999', 'Navathita', '', 'Limapar', 'Thai', 'Female', '1994-07-12', 'First Officer'),\n",
                "('4', '1', 'AA392084', 'Supaporn', '', 'Chaiyapruk', 'Thai', 'Female', '1996-12-25', 'Crew'),\n",
                "('5', '1', 'AA142393', 'Tanakrit', '', 'Pongthananon', 'Thai', 'Male', '1991-04-06', 'Crew'),\n",
                "('6', '1', 'AC421000', 'Siriluk', '', 'Thongbai', 'Thai', 'Female', '1987-10-24', 'Crew'),\n",
                "('7', '1', 'AA332841', 'Natthawut', '', 'Sae-ong', 'Thai', 'Female', '1988-02-27', 'Crew'),\n",
                "('8', '1', 'AC295025', 'Sutthiporn', '', 'Charoenpetch', 'Thai', 'Female', '1992-09-01', 'Crew'),\n",
                "('9', '1', 'AC252044', 'Prapaiporn', '', 'Jiraprapakul', 'Thai', 'Female', '1986-03-31', 'Crew'),\n",
                "('10', '1', 'AA962278', 'Kittipong', 'Kerati', 'Kongkawong', 'Thai', 'Male', '1981-10-10', 'Crew'),\n",
                "('11', '2', 'AA128765', 'Panitara', '', 'Kerati', 'Thai', 'Male', '1983-08-10', 'Crew'),\n",
                "('12', '1', 'AC096000', 'Nattapol', '', 'Poolsawas', 'Thai', 'Female', '1985-12-02', 'Crew'),\n",
                "('13', '2', 'AA107298', 'JJ', '', 'Channatip', 'Thai', 'Male', '1981-05-23', 'First Officer'),\n",
                "('14', '1', 'AA356989', 'Adithep ', '', 'Tarunthorn', 'Thai', 'Male', '1973-10-23', 'Captain'),\n",
                "('15', '2', 'AC421001', 'Dan', '', 'Kereekol', 'Thai', 'Male', '1978-05-20', 'First Officer'),\n",
                "('16', '1', 'AA332842', 'Wutthichai', 'Kan', 'Chanan', 'Thai', 'Male', '1983-08-11', 'First Officer'),\n",
                "('17', '2', 'AC209063', 'Malee', '', 'Jampa', 'Thai', 'Female', '1995-12-01', 'Crew'),\n",
                "('18', '1', 'AC166082', 'Santi', '', 'Pasawa', 'Thai', 'Male', '1987-03-09', 'Crew'),\n",
                "('19', '2', 'AA161302', 'Satta', '', 'Kethea', 'Thai', 'Male', '1976-09-11', 'Captain'),\n",
                "('20', '1', 'AA193840', 'Nakaree', '', 'Mesawad', 'Thai', 'Male', '1991-02-07', 'First Officer'),\n",
                "('21', '2', 'AA312315', 'Ratasak', '', 'Jimtumbon', 'Thai', 'Male', '1970-11-30', 'Captain'),\n",
                "('22', '2', 'AC123132', 'Amy', '', 'Tinsana', 'Thai', 'Female', '1970-11-30', 'Crew'),\n",
                "('23', '2', 'AA912302', 'Sirinapa', '', 'Boonlert', 'Thai', 'Female', '1980-02-01', 'Crew'),\n",
                "('24', '2', 'AA321392', 'Apiradee', '', 'Phetpradit', 'Thai', 'Female', '1980-03-20', 'Crew'),\n",
                "('25', '2', 'AA331322', 'Kasem', '', 'Srisawat', 'Thai', 'Male', '1975-11-23', 'Crew'),\n",
                "('26', '2', 'AC919233', 'Supattra', '', 'Intarapanich', 'Thai', 'Female', '1978-01-11', 'Crew'),\n",
                "('27', '2', 'AC120390', 'Prasit', '', 'Jirakasem', 'Thai', 'Male', '1963-12-08', 'Crew'),\n",
                "('28', '2', 'AB908678', 'Siriporn', '', 'Choomnoom', 'Thai', 'Female', '1973-09-09', 'Crew'),\n",
                "('29', '1', 'AC123999', 'Boonlert', '', 'Kumsap', 'Thai', 'Male', '1970-11-10', 'Captain'),\n",
                "('30', '1', 'AB999382', 'Piyapong', '', 'Srisuk', 'Thai', 'Male', '1981-02-01', 'Crew'),\n",
                "('31', '1', 'AB387922', 'Nipaporn', '', 'Arunvong', 'Thai', 'Female', '1981-01-08', 'Crew'),\n",
                "('32', '1', 'AB886732', 'Chalermpong', '', 'Pongpan', 'Thai', 'Male', '1975-06-03', 'First Officer'),\n",
                "('33', '2', 'AC553622', 'Chawalit', '', 'Sombat', 'Thai', 'Male', '1992-11-11', 'First Officer'),\n",
                "('34', '2', 'AA553821', 'Wannaporn', '', 'Thongma', 'Thai', 'Female', '1986-07-01', 'Crew'),\n",
                "('35', '2', 'AB616162', 'Prayuth', '', 'Wongthep', 'Thai', 'Male', '1997-09-14', 'Crew'),\n",
                "('36', '2', 'AB717182', 'Thipparat', '', 'Chaisit', 'Thai', 'Male', '1988-03-05', 'Captain'),\n",
                "('37', '2', 'AC909203', 'Kittisak', '', 'Praphasuk', 'Thai', 'Male', '1991-05-28', 'Crew'),\n",
                "('38', '2', 'AB786678', 'Nattawut', '', 'Chotisit', 'Thai', 'Female', '1993-01-08', 'Crew'),\n",
                "('39', '1', 'AC123000', 'Jiraporn', '', 'Chaiyapruk', 'Thai', 'Female', '1990-02-26', 'Crew'),\n",
                "('40', '1', 'AB900321', 'Wirat', '', 'Sangsawang', 'Thai', 'Female', '1992-11-02', 'Crew'),\n",
                "('41', '1', 'AB999991', 'Panthip', '', 'Thepparat', 'Thai', 'Male', '1990-04-17', 'First Officer'),\n",
                "('42', '1', 'AA832893', 'Pranee', '', 'Klinchan', 'Thai', 'Female', '1999-10-22', 'Crew'),\n",
                "('43', '1', 'AA195666', 'Thitirat', '', 'Chaiyaporn', 'Thai', 'Male', '1983-06-14', 'Captian')"
            ],
            "metadata": {
                "language": "sql",
                "azdata_cell_guid": "9462e07a-b26b-41ac-a39b-218b24c2f5d7"
            },
            "outputs": [
                {
                    "output_type": "display_data",
                    "data": {
                        "text/html": "(43 rows affected)"
                    },
                    "metadata": {}
                },
                {
                    "output_type": "display_data",
                    "data": {
                        "text/html": "Total execution time: 00:00:00.049"
                    },
                    "metadata": {}
                }
            ],
            "execution_count": 37
        },
        {
            "cell_type": "code",
            "source": [
                "-- Salary\n",
                "INSERT dbo.Salary(role,salary)\n",
                "VALUES ('Captain', 400000),\n",
                "('Crew', 150000),\n",
                "('First Officer', 260000)"
            ],
            "metadata": {
                "language": "sql",
                "azdata_cell_guid": "ee7bd304-7e91-4320-9679-5aacdc689cc8"
            },
            "outputs": [
                {
                    "output_type": "display_data",
                    "data": {
                        "text/html": "(3 rows affected)"
                    },
                    "metadata": {}
                },
                {
                    "output_type": "display_data",
                    "data": {
                        "text/html": "Total execution time: 00:00:00.005"
                    },
                    "metadata": {}
                }
            ],
            "execution_count": 38
        },
        {
            "cell_type": "code",
            "source": [
                "-- FlightEmployee\n",
                "INSERT dbo.FlightEmployee(flightCrewID,flightPlanID,emp_ID)\n",
                "VALUES ('1','1', '1'),\n",
                "('2','1', '2'),\n",
                "('3','1', '6'),\n",
                "('4','1', '7'),\n",
                "('5','1', '8'),\n",
                "('6','3', '9'),\n",
                "('7','3', '14'),\n",
                "('8','3', '20'),\n",
                "('9','3', '5'),\n",
                "('10','3', '10'),\n",
                "('11','7', '29'),\n",
                "('12','7', '32'),\n",
                "('13','7', '30'),\n",
                "('14','7', '31'),\n",
                "('15','7', '12'),\n",
                "('16','14', '19'),\n",
                "('17','14', '20'),\n",
                "('18','14', '24'),\n",
                "('19','14', '25'),\n",
                "('20','16', '36'),\n",
                "('21','16', '33'),\n",
                "('22','16', '37'),\n",
                "('23','16', '38')"
            ],
            "metadata": {
                "language": "sql",
                "azdata_cell_guid": "f9fb69c6-c361-4027-b76e-f0788a857e16"
            },
            "outputs": [
                {
                    "output_type": "display_data",
                    "data": {
                        "text/html": "(23 rows affected)"
                    },
                    "metadata": {}
                },
                {
                    "output_type": "display_data",
                    "data": {
                        "text/html": "Total execution time: 00:00:00.029"
                    },
                    "metadata": {}
                }
            ],
            "execution_count": 39
        },
        {
            "cell_type": "code",
            "source": [
                "UPDATE Employee set MiddleName = null WHERE MiddleName = '';"
            ],
            "metadata": {
                "azdata_cell_guid": "1f83ba06-c8a3-4b80-a405-504e6aefac24",
                "language": "sql"
            },
            "outputs": [],
            "execution_count": null
        },
        {
            "cell_type": "code",
            "source": [
                "UPDATE Passenger set middleName = null WHERE middleName = '';"
            ],
            "metadata": {
                "language": "sql",
                "azdata_cell_guid": "6ba580e4-727b-49bb-8213-8641fbedad12"
            },
            "outputs": [],
            "execution_count": null
        }
    ]
}